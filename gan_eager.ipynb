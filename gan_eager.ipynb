{
 "cells": [
  {
   "cell_type": "code",
   "execution_count": null,
   "metadata": {},
   "outputs": [],
   "source": [
    "\"\"\"GPU setup\"\"\"\n",
    "import os\n",
    "os.environ[\"CUDA_VISIBLE_DEVICES\"] = \"2\""
   ]
  },
  {
   "cell_type": "code",
   "execution_count": null,
   "metadata": {},
   "outputs": [],
   "source": [
    "\"\"\"Imports\"\"\"\n",
    "import tensorflow as tf\n",
    "import numpy as np\n",
    "tf.enable_eager_execution()\n",
    "\n",
    "from matplotlib import pyplot as plt\n",
    "\n",
    "from utils.data import mnist_eager\n",
    "from utils.math import compute_mmd\n",
    "\n",
    "\n",
    "# data\n",
    "batch_size = 128\n",
    "train_steps = 1500\n",
    "dim_noise = 100\n",
    "\n",
    "data = mnist_eager(\"data/mnist_train\", batch_size)"
   ]
  },
  {
   "cell_type": "code",
   "execution_count": null,
   "metadata": {},
   "outputs": [],
   "source": [
    "\"\"\"Define GAN\"\"\"\n",
    "discriminator = tf.keras.Sequential([tf.keras.layers.Dense(512, tf.nn.relu),\n",
    "                                     tf.keras.layers.Dense(256, tf.nn.relu),\n",
    "                                     tf.keras.layers.Dense(1)])\n",
    "generator = tf.keras.Sequential([tf.keras.layers.Dense(256, tf.nn.relu),\n",
    "                                 tf.keras.layers.Dense(512, tf.nn.relu),\n",
    "                                 tf.keras.layers.Dense(1024, tf.nn.relu),\n",
    "                                 tf.keras.layers.Dense(784, tf.nn.sigmoid)])\n",
    "\n",
    "\n",
    "def noise_fn(shape): return tf.random_uniform(shape, minval=-1, maxval=1)\n",
    "\n",
    "\n",
    "def partial_loss(logits, lbls):\n",
    "    return tf.losses.sigmoid_cross_entropy(multi_class_labels=lbls, logits=logits)\n",
    "\n",
    "\n",
    "gen_opt = tf.train.AdamOptimizer()\n",
    "disc_opt = tf.train.AdamOptimizer()"
   ]
  },
  {
   "cell_type": "code",
   "execution_count": null,
   "metadata": {},
   "outputs": [],
   "source": [
    "\"\"\"Train GAN\"\"\"\n",
    "# TODO only \"watch\" variables of interest in each tape\n",
    "for step, (img_batch, _) in enumerate(data):\n",
    "    if step > train_steps:\n",
    "        break\n",
    "\n",
    "    # prepare mixed batch for discriminator training\n",
    "    batch_dim = tf.shape(img_batch)[0]\n",
    "    gen_batch = generator(noise_fn([batch_dim, dim_noise]))\n",
    "    full_batch = tf.concat([img_batch, gen_batch], axis=0)\n",
    "    full_labels = tf.concat([tf.ones([batch_dim, 1]), tf.zeros([batch_dim, 1])], axis=0)\n",
    "    with tf.GradientTape() as d_tape:\n",
    "        d_loss = partial_loss(discriminator(full_batch), full_labels)\n",
    "    d_grads = d_tape.gradient(d_loss, discriminator.variables)\n",
    "    disc_opt.apply_gradients(zip(d_grads, discriminator.variables))\n",
    "    \n",
    "    # fresh generated batch for generator training\n",
    "    with tf.GradientTape() as g_tape:\n",
    "        gen_batch = generator(noise_fn([batch_dim, dim_noise]))\n",
    "        g_loss = partial_loss(discriminator(gen_batch), tf.ones([batch_dim, 1]))\n",
    "    g_grads = g_tape.gradient(g_loss, generator.variables)\n",
    "    gen_opt.apply_gradients(zip(g_grads, generator.variables))\n",
    "    \n",
    "    if not step % 50:\n",
    "        print(\"Step\", step)\n",
    "        print(\"Gen Loss\", g_loss)\n",
    "        print(\"Disc Loss\", d_loss)\n"
   ]
  },
  {
   "cell_type": "code",
   "execution_count": null,
   "metadata": {},
   "outputs": [],
   "source": [
    "\"\"\"Generate stuff forever\"\"\"\n",
    "while True:\n",
    "    imgs = generator(noise_fn((batch_size, dim_noise)))\n",
    "    for thing in imgs:\n",
    "        plt.imshow(thing.numpy().reshape((28, 28)), cmap=\"Greys_r\", vmin=0, vmax=1)\n",
    "        plt.show()\n",
    "        input()"
   ]
  }
 ],
 "metadata": {
  "kernelspec": {
   "display_name": "Python 3",
   "language": "python",
   "name": "python3"
  },
  "language_info": {
   "codemirror_mode": {
    "name": "ipython",
    "version": 3
   },
   "file_extension": ".py",
   "mimetype": "text/x-python",
   "name": "python",
   "nbconvert_exporter": "python",
   "pygments_lexer": "ipython3",
   "version": "3.6.5"
  }
 },
 "nbformat": 4,
 "nbformat_minor": 1
}
