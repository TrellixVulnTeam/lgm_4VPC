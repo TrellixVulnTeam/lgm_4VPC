{
 "cells": [
  {
   "cell_type": "code",
   "execution_count": null,
   "metadata": {
    "collapsed": true
   },
   "outputs": [],
   "source": [
    "\"\"\"GPU setup\"\"\"\n",
    "import os\n",
    "os.environ[\"CUDA_VISIBLE_DEVICES\"] = \"2\""
   ]
  },
  {
   "cell_type": "code",
   "execution_count": null,
   "metadata": {},
   "outputs": [],
   "source": [
    "\"\"\"Imports, define AE model\"\"\"\n",
    "import tensorflow as tf\n",
    "import numpy as np\n",
    "tf.enable_eager_execution()\n",
    "\n",
    "from matplotlib import pyplot as plt\n",
    "\n",
    "from utils.data import mnist_eager\n",
    "from utils.math import compute_mmd\n",
    "from utils.models import gen_conv_mnist, gen_fc_mnist, enc_fc_mnist, enc_conv_mnist\n",
    "\n",
    "\n",
    "# data\n",
    "batch_size = 256\n",
    "train_steps = 1500\n",
    "dim_noise = 10\n",
    "dim_code = 16\n",
    "\n",
    "data = mnist_eager(\"data/mnist_train\", batch_size)\n",
    "\n",
    "\n",
    "conv = False\n",
    "if conv:\n",
    "    encoder = enc_conv_mnist(dim_code, use_bn=True)\n",
    "    decoder = gen_conv_mnist(use_bn=True)\n",
    "else:\n",
    "    encoder = enc_fc_mnist(dim_code, use_bn=True)\n",
    "    decoder = gen_fc_mnist(use_bn=True)\n",
    "\n",
    "\n",
    "def ae_loss(imgs):\n",
    "    recon = decoder(encoder(imgs))\n",
    "    return tf.losses.mean_squared_error(imgs, recon)\n",
    "    #return tf.losses.absolute_difference(imgs, recon)\n",
    "    #return tf.losses.sigmoid_cross_entropy(multi_class_labels=imgs, logits=recon)\n",
    "\n",
    "\n",
    "ae_opt = tf.train.AdamOptimizer()\n"
   ]
  },
  {
   "cell_type": "code",
   "execution_count": null,
   "metadata": {},
   "outputs": [],
   "source": [
    "\"\"\"Train AE\"\"\"\n",
    "tf.keras.backend.set_learning_phase(1)\n",
    "for step, (img_batch, _) in enumerate(data):\n",
    "    if step > train_steps:\n",
    "        break\n",
    "    \n",
    "    with tf.GradientTape() as tape:\n",
    "        recon_loss = ae_loss(img_batch)\n",
    "    grads = tape.gradient(recon_loss, encoder.variables + decoder.variables)\n",
    "    ae_opt.apply_gradients(zip(grads, encoder.variables + decoder.variables))\n",
    "    \n",
    "    if not step % 50:\n",
    "        print(\"Step\", step)\n",
    "        print(\"Loss\", recon_loss)\n",
    "\n",
    "tf.keras.backend.set_learning_phase(0)"
   ]
  },
  {
   "cell_type": "code",
   "execution_count": null,
   "metadata": {},
   "outputs": [],
   "source": [
    "\"\"\"Check reconstructions\"\"\"\n",
    "test_data = mnist_eager(\"data/mnist_test\", batch_size, train=False)\n",
    "\n",
    "for img_batch, _ in test_data:\n",
    "    recon_batch = decoder(encoder(img_batch))\n",
    "    for img, rec in zip(img_batch, recon_batch):\n",
    "        compare = np.concatenate((img.numpy().reshape((32, 32)), rec.numpy().reshape((32, 32))), axis=1)\n",
    "        plt.imshow(compare, cmap=\"Greys_r\", vmin=0, vmax=1)\n",
    "        plt.show()\n",
    "        input()"
   ]
  },
  {
   "cell_type": "code",
   "execution_count": null,
   "metadata": {},
   "outputs": [],
   "source": [
    "\"\"\"Create training set of codes\"\"\"\n",
    "train_data_straight = mnist_eager(\"data/mnist_train\", batch_size, train=False)\n",
    "\n",
    "train_code_batches = []\n",
    "for step, (img_batch, _) in enumerate(train_data_straight):\n",
    "    train_code_batches.append(encoder(img_batch))\n",
    "train_codes = np.concatenate(train_code_batches)"
   ]
  },
  {
   "cell_type": "code",
   "execution_count": null,
   "metadata": {},
   "outputs": [],
   "source": [
    "\"\"\"Interpolate between some codes\"\"\"\n",
    "ind1 = 124\n",
    "ind2 = 15645\n",
    "granul = 20\n",
    "a_code = train_codes[ind1:(ind1+1)]\n",
    "b_code = train_codes[ind2:(ind2+1)]\n",
    "\n",
    "for interp in np.linspace(0, 1, granul):\n",
    "    p_code = interp*b_code + (1-interp)*a_code\n",
    "    p_rec = decoder(p_code)\n",
    "    plt.imshow(p_rec.numpy().reshape((32, 32)), cmap=\"Greys_r\", vmin=0, vmax=1)\n",
    "    plt.show()\n"
   ]
  },
  {
   "cell_type": "code",
   "execution_count": null,
   "metadata": {},
   "outputs": [],
   "source": [
    "\"\"\"Set up data/model for training code GMMN\"\"\"\n",
    "code_data = tf.data.Dataset.from_tensor_slices(train_codes)\n",
    "code_data = code_data.apply(tf.data.experimental.shuffle_and_repeat(60000))\n",
    "code_data = code_data.batch(batch_size//2)\n",
    "\n",
    "\n",
    "def noise_fn(shape): return tf.random_uniform(shape, minval=-1, maxval=1)\n",
    "\n",
    "\n",
    "code_gmmn = tf.keras.Sequential([tf.keras.layers.Dense(32, tf.nn.leaky_relu),\n",
    "                                 tf.keras.layers.Dense(64, tf.nn.leaky_relu),\n",
    "                                 tf.keras.layers.Dense(64, tf.nn.leaky_relu),\n",
    "                                 tf.keras.layers.Dense(dim_code)])\n",
    "\n",
    "\n",
    "def gmmn_loss(code):\n",
    "    generated = code_gmmn(noise_fn((tf.shape(code)[0], dim_noise)))\n",
    "    return tf.sqrt(compute_mmd(code, generated, [0.03, 0.1, 0.3, 1., 3., 10.]))\n",
    "\n",
    "\n",
    "gmmn_opt = tf.train.AdamOptimizer()\n"
   ]
  },
  {
   "cell_type": "code",
   "execution_count": null,
   "metadata": {},
   "outputs": [],
   "source": [
    "\"\"\"Train code GMMN\"\"\"\n",
    "for step, code_batch in enumerate(code_data):\n",
    "    if step > train_steps:\n",
    "        break\n",
    "    \n",
    "    with tf.GradientTape() as tape:\n",
    "        mmd = gmmn_loss(code_batch)\n",
    "    grads = tape.gradient(mmd, code_gmmn.variables)\n",
    "    gmmn_opt.apply_gradients(zip(grads, code_gmmn.variables))\n",
    "    \n",
    "    if not step % 50:\n",
    "        print(\"Step\", step)\n",
    "        print(\"Loss\", mmd)"
   ]
  },
  {
   "cell_type": "code",
   "execution_count": null,
   "metadata": {},
   "outputs": [],
   "source": [
    "\"\"\"Check what the code space looks like\"\"\"\n",
    "print(train_codes.min(axis=0))\n",
    "print(train_codes.max(axis=0))"
   ]
  },
  {
   "cell_type": "code",
   "execution_count": null,
   "metadata": {},
   "outputs": [],
   "source": [
    "\"\"\"Generate reconstructions from some random code\"\"\"\n",
    "for _ in range(20):\n",
    "    randcode = tf.random_uniform([1, dim_code], minval=-15, maxval=15)\n",
    "    randrec = decoder(randcode)\n",
    "    plt.imshow(randrec.numpy().reshape((32, 32)), cmap=\"Greys_r\", vmin=0, vmax=1)\n",
    "    plt.show()"
   ]
  },
  {
   "cell_type": "code",
   "execution_count": null,
   "metadata": {},
   "outputs": [],
   "source": [
    "\"\"\"Generate reconstructions from GMMN noise\"\"\"\n",
    "for _ in range(20):\n",
    "    randnoise = noise_fn([1, dim_noise])\n",
    "    randcode = code_gmmn(randnoise)\n",
    "    randrec = decoder(randcode)\n",
    "    plt.imshow(randrec.numpy().reshape((32, 32)), cmap=\"Greys_r\", vmin=0, vmax=1)\n",
    "    plt.show()"
   ]
  }
 ],
 "metadata": {
  "kernelspec": {
   "display_name": "Python 2",
   "language": "python",
   "name": "python2"
  },
  "language_info": {
   "codemirror_mode": {
    "name": "ipython",
    "version": 2
   },
   "file_extension": ".py",
   "mimetype": "text/x-python",
   "name": "python",
   "nbconvert_exporter": "python",
   "pygments_lexer": "ipython2",
   "version": "2.7.6"
  }
 },
 "nbformat": 4,
 "nbformat_minor": 0
}
