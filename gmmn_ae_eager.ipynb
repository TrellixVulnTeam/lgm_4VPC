{
 "cells": [
  {
   "cell_type": "code",
   "execution_count": null,
   "metadata": {},
   "outputs": [],
   "source": [
    "\"\"\"GPU setup\"\"\"\n",
    "import os\n",
    "os.environ[\"CUDA_VISIBLE_DEVICES\"] = \"2\""
   ]
  },
  {
   "cell_type": "code",
   "execution_count": null,
   "metadata": {},
   "outputs": [],
   "source": [
    "\"\"\"Imports, define AE model\"\"\"\n",
    "import tensorflow as tf\n",
    "import numpy as np\n",
    "\n",
    "from utils.data import tfr_dataset_eager, parse_img_label_tfr\n",
    "from utils.math import compute_mmd\n",
    "from utils.models import gen_conv_mnist, gen_fc_mnist, enc_fc_mnist, enc_conv_mnist, wrap_sigmoid\n",
    "from utils.viz import random_sample_grid, imshow, interpolate\n",
    "\n",
    "\n",
    "# data\n",
    "svhn = False\n",
    "batch_size = 256\n",
    "train_steps = 5000 if svhn else 1500\n",
    "dim_code = 100\n",
    "\n",
    "if svhn:\n",
    "    train_files = [\"/cache/tfrs/svhn_train.tfr\", \"/cache/tfrs/svhn_extra.tfr\"]\n",
    "    test_files = [\"/cache/tfrs/svhn_test.tfr\"]\n",
    "    parse_fn = lambda x: parse_img_label_tfr(x, (32, 32, 3))\n",
    "else:\n",
    "    train_files = [\"/cache/tfrs/mnist_train.tfr\"]\n",
    "    test_files = [\"/cache/tfrs/mnist_test.tfr\"]\n",
    "    parse_fn = lambda x: parse_img_label_tfr(x, (32, 32, 1))\n",
    "\n",
    "data = tfr_dataset_eager(train_files, batch_size, parse_fn, shufrep=600000 if svhn else 60000)\n",
    "\n",
    "\n",
    "conv = False\n",
    "if conv:\n",
    "    encoder = enc_conv_mnist(dim_code, use_bn=True)\n",
    "    decoder = gen_conv_mnist(use_bn=True, final_act=None, channels=3 if svhn else 1)\n",
    "else:\n",
    "    encoder = enc_fc_mnist(dim_code, use_bn=True)\n",
    "    decoder = gen_fc_mnist(use_bn=True, final_act=None, channels=3 if svhn else 1)\n",
    "sig_decoder = wrap_sigmoid(decoder)\n",
    "\n",
    "\n",
    "ae_loss = tf.losses.BinaryCrossentropy(from_logits=True)\n",
    "\n",
    "ae_opt = tf.optimizers.Adam()"
   ]
  },
  {
   "cell_type": "code",
   "execution_count": null,
   "metadata": {},
   "outputs": [],
   "source": [
    "\"\"\"Train AE\"\"\"\n",
    "tf.keras.backend.set_learning_phase(1)\n",
    "\n",
    "@tf.function\n",
    "def train(batch):\n",
    "    with tf.GradientTape() as tape:\n",
    "        recon = decoder(encoder(batch))\n",
    "        recon_loss = ae_loss(batch, recon)\n",
    "    grads = tape.gradient(recon_loss, encoder.trainable_variables + decoder.trainable_variables)\n",
    "    ae_opt.apply_gradients(zip(grads, encoder.trainable_variables + decoder.trainable_variables))\n",
    "    return recon_loss\n",
    "\n",
    "\n",
    "for step, (img_batch, _) in enumerate(data):\n",
    "    if step > train_steps:\n",
    "        break\n",
    "    l = train(img_batch)\n",
    "\n",
    "    #with tf.GradientTape() as tape:\n",
    "    #    recon = decoder(encoder(img_batch))\n",
    "    #    recon_loss = ae_loss(img_batch, recon)\n",
    "    #grads = tape.gradient(recon_loss, encoder.trainable_variables + decoder.trainable_variables)\n",
    "    #ae_opt.apply_gradients(zip(grads, encoder.trainable_variables + decoder.trainable_variables))\n",
    "\n",
    "    if not step % 50:\n",
    "        pass\n",
    "        print(\"Step\", step)\n",
    "        print(\"Loss\", l)\n",
    "\n",
    "tf.keras.backend.set_learning_phase(0)"
   ]
  },
  {
   "cell_type": "code",
   "execution_count": null,
   "metadata": {},
   "outputs": [],
   "source": [
    "\"\"\"Check reconstructions\"\"\"\n",
    "tf.keras.backend.set_learning_phase(0)\n",
    "\n",
    "test_data = tfr_dataset_eager(test_files, batch_size, parse_fn)\n",
    "\n",
    "for img_batch, _ in test_data:\n",
    "    recon_batch = sig_decoder(encoder(img_batch))\n",
    "    for img, rec in zip(img_batch, recon_batch):\n",
    "        compare = np.concatenate((img, rec), axis=1)\n",
    "        imshow(compare)\n",
    "        input()"
   ]
  },
  {
   "cell_type": "code",
   "execution_count": null,
   "metadata": {},
   "outputs": [],
   "source": [
    "\"\"\"Create training set of codes\"\"\"\n",
    "train_data_straight = tfr_dataset_eager(train_files, batch_size, parse_fn)\n",
    "\n",
    "train_code_batches = []\n",
    "for step, (img_batch, _) in enumerate(train_data_straight):\n",
    "    train_code_batches.append(encoder(img_batch))\n",
    "train_codes = np.concatenate(train_code_batches)"
   ]
  },
  {
   "cell_type": "code",
   "execution_count": null,
   "metadata": {},
   "outputs": [],
   "source": [
    "\"\"\"Set up data/model for training code GMMN\"\"\"\n",
    "code_data = tf.data.Dataset.from_tensor_slices(train_codes)\n",
    "code_data = code_data.apply(tf.data.experimental.shuffle_and_repeat(len(train_codes)))\n",
    "code_data = code_data.batch(batch_size//2)\n",
    "\n",
    "dim_noise = 10\n",
    "\n",
    "\n",
    "def noise_fn(n_samples): return tf.random.uniform([n_samples, dim_noise], minval=-1, maxval=1)\n",
    "\n",
    "\n",
    "code_gmmn = tf.keras.Sequential([tf.keras.layers.Dense(32, tf.nn.leaky_relu),\n",
    "                                 tf.keras.layers.Dense(64, tf.nn.leaky_relu),\n",
    "                                 tf.keras.layers.Dense(64, tf.nn.leaky_relu),\n",
    "                                 tf.keras.layers.Dense(dim_code)])\n",
    "\n",
    "\n",
    "def gmmn_loss(real, generated):\n",
    "    return tf.sqrt(compute_mmd(real, generated, [0.03, 0.1, 0.3, 1., 3., 10.]))\n",
    "\n",
    "\n",
    "gmmn_opt = tf.optimizers.Adam()"
   ]
  },
  {
   "cell_type": "code",
   "execution_count": null,
   "metadata": {},
   "outputs": [],
   "source": [
    "\"\"\"Check target loss\"\"\"\n",
    "print(\"MMD for 15 pairs of real batches...\")\n",
    "data_iter = iter(code_data)\n",
    "for step in range(15):\n",
    "    mmd = gmmn_loss(next(data_iter), next(data_iter))\n",
    "    print(mmd.numpy())"
   ]
  },
  {
   "cell_type": "code",
   "execution_count": null,
   "metadata": {},
   "outputs": [],
   "source": [
    "\"\"\"Train code GMMN\"\"\"\n",
    "\n",
    "@tf.function\n",
    "def train(batch):\n",
    "    with tf.GradientTape() as tape:\n",
    "        gen_batch = code_gmmn(noise_fn(tf.shape(batch)[0]))\n",
    "        mmd = gmmn_loss(batch, gen_batch)\n",
    "    grads = tape.gradient(mmd, code_gmmn.trainable_variables)\n",
    "    gmmn_opt.apply_gradients(zip(grads, code_gmmn.trainable_variables))\n",
    "    return mmd\n",
    "\n",
    "tf.keras.backend.set_learning_phase(1)\n",
    "for step, code_batch in enumerate(code_data):\n",
    "    if step > train_steps:\n",
    "        break\n",
    "    \n",
    "    mmd = train(code_batch)\n",
    "    \n",
    "    if not step % 50:\n",
    "        print(\"Step\", step)\n",
    "        print(\"Loss\", mmd)\n",
    "\n",
    "tf.keras.backend.set_learning_phase(0)"
   ]
  },
  {
   "cell_type": "code",
   "execution_count": null,
   "metadata": {},
   "outputs": [],
   "source": [
    "\"\"\"Check what the code space looks like\"\"\"\n",
    "print(train_codes.min(axis=0))\n",
    "print(train_codes.max(axis=0))"
   ]
  },
  {
   "cell_type": "code",
   "execution_count": null,
   "metadata": {},
   "outputs": [],
   "source": [
    "\"\"\"Decodings directly from random code space entries\"\"\"\n",
    "tf.keras.backend.set_learning_phase(0)\n",
    "\n",
    "grid = random_sample_grid(sig_decoder, lambda bs: tf.random.uniform([bs, dim_code], minval=-3, maxval=3))"
   ]
  },
  {
   "cell_type": "code",
   "execution_count": null,
   "metadata": {},
   "outputs": [],
   "source": [
    "\"\"\"Interpolate between some AE codes\"\"\"\n",
    "ind1 = np.random.choice(len(train_codes))\n",
    "ind2 = np.random.choice(len(train_codes))\n",
    "a_code = train_codes[ind1]\n",
    "b_code = train_codes[ind2]\n",
    "\n",
    "interpolate(a_code, b_code, gen=sig_decoder, method=\"slerp\")"
   ]
  },
  {
   "cell_type": "code",
   "execution_count": null,
   "metadata": {},
   "outputs": [],
   "source": [
    "\"\"\"Decodings from random noise first converted to codes\"\"\"\n",
    "grid = random_sample_grid(lambda x: sig_decoder(code_gmmn(x)), noise_fn)"
   ]
  },
  {
   "cell_type": "code",
   "execution_count": null,
   "metadata": {},
   "outputs": [],
   "source": [
    "\"\"\"Interpolation behavior in noise space\"\"\"\n",
    "codes = noise_fn(2)\n",
    "a_code = codes[0]\n",
    "b_code = codes[1]\n",
    "interpolate(a_code, b_code, gen=lambda x: sig_decoder(code_gmmn(x)), method=\"slerp\")"
   ]
  },
  {
   "cell_type": "code",
   "execution_count": null,
   "metadata": {},
   "outputs": [],
   "source": []
  }
 ],
 "metadata": {
  "kernelspec": {
   "display_name": "Python 3",
   "language": "python",
   "name": "python3"
  },
  "language_info": {
   "codemirror_mode": {
    "name": "ipython",
    "version": 3
   },
   "file_extension": ".py",
   "mimetype": "text/x-python",
   "name": "python",
   "nbconvert_exporter": "python",
   "pygments_lexer": "ipython3",
   "version": "3.6.5"
  }
 },
 "nbformat": 4,
 "nbformat_minor": 1
}
