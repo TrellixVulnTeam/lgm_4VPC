{
 "cells": [
  {
   "cell_type": "code",
   "execution_count": null,
   "metadata": {},
   "outputs": [],
   "source": [
    "\"\"\"GPU setup\"\"\"\n",
    "import os\n",
    "os.environ[\"CUDA_VISIBLE_DEVICES\"] = \"2\""
   ]
  },
  {
   "cell_type": "code",
   "execution_count": null,
   "metadata": {},
   "outputs": [],
   "source": [
    "\"\"\"Imports, define GAN\"\"\"\n",
    "import tensorflow as tf\n",
    "tf.enable_eager_execution()\n",
    "\n",
    "from utils.data import tfr_dataset_eager, parse_img_label_tfr\n",
    "from utils.math import compute_mmd\n",
    "from utils.models import gen_conv_mnist, gen_fc_mnist, enc_conv_mnist, enc_fc_mnist\n",
    "from utils.viz import random_sample_grid\n",
    "\n",
    "\n",
    "# data\n",
    "svhn = False\n",
    "batch_size = 128  # this is a \"half batch\"!\n",
    "train_steps = 5000 if svhn else 1500\n",
    "dim_noise = 100\n",
    "clip = 0.01\n",
    "n_critic = 5\n",
    "train_steps *= n_critic\n",
    "\n",
    "if svhn:\n",
    "    train_files = [\"/cache/tfrs/svhn_train.tfr\", \"/cache/tfrs/svhn_extra.tfr\"]\n",
    "    test_files = [\"/cache/tfrs/svhn_test.tfr\"]\n",
    "    parse_fn = lambda x: parse_img_label_tfr(x, (32, 32, 3))\n",
    "else:\n",
    "    train_files = [\"/cache/tfrs/mnist_train.tfr\"]\n",
    "    test_files = [\"/cache/tfrs/mnist_test.tfr\"]\n",
    "    parse_fn = lambda x: parse_img_label_tfr(x, (32, 32, 1))\n",
    "\n",
    "data = tfr_dataset_eager(train_files, batch_size, parse_fn, shufrep=600000 if svhn else 60000)\n",
    "\n",
    "conv = False\n",
    "if conv:\n",
    "    discriminator = enc_conv_mnist(1, use_bn=True, clip=clip)\n",
    "    generator = gen_conv_mnist(use_bn=True, channels=3 if svhn else 1)\n",
    "else:\n",
    "    discriminator = enc_fc_mnist(1, use_bn=True, clip=clip)\n",
    "    generator = gen_fc_mnist(use_bn=True, channels=3 if svhn else 1)\n",
    "\n",
    "\n",
    "def noise_fn(n_samples): return tf.random_uniform([n_samples, dim_noise], minval=-1, maxval=1)\n",
    "\n",
    "\n",
    "gen_opt = tf.train.RMSPropOptimizer(learning_rate=0.00005)\n",
    "disc_opt = tf.train.RMSPropOptimizer(learning_rate=0.00005)"
   ]
  },
  {
   "cell_type": "code",
   "execution_count": null,
   "metadata": {},
   "outputs": [],
   "source": [
    "\"\"\"Train WGAN\"\"\"\n",
    "tf.keras.backend.set_learning_phase(1)\n",
    "for step, (img_batch, _) in enumerate(data):\n",
    "    if step > train_steps:\n",
    "        break\n",
    "\n",
    "    # prepare mixed batch for discriminator training\n",
    "    # For batchnorm to work better, we feed only real images, then only \n",
    "    # generated ones and then average the gradients\n",
    "    batch_dim = tf.shape(img_batch)[0]\n",
    "    gen_batch = generator(noise_fn(batch_dim))\n",
    "    gen_labels = tf.zeros([batch_dim, 1])\n",
    "    with tf.GradientTape() as d_tape:\n",
    "        d_loss_real = tf.reduce_mean(discriminator(img_batch))\n",
    "        d_loss_fake = tf.reduce_mean(discriminator(gen_batch))\n",
    "        d_loss = -d_loss_real + d_loss_fake\n",
    "    d_grads = d_tape.gradient(d_loss, discriminator.trainable_variables)\n",
    "    disc_opt.apply_gradients(zip(d_grads, discriminator.trainable_variables))\n",
    "    \n",
    "    if not (step + 1) % n_critic:\n",
    "        # fresh generated batch for generator training\n",
    "        with tf.GradientTape(watch_accessed_variables=False) as g_tape:\n",
    "            for vari in generator.trainable_variables:\n",
    "                g_tape.watch(vari)\n",
    "            gen_only_batch = generator(noise_fn(2*batch_dim))\n",
    "            g_loss = -tf.reduce_mean(discriminator(gen_only_batch))\n",
    "        g_grads = g_tape.gradient(g_loss, generator.trainable_variables)\n",
    "        gen_opt.apply_gradients(zip(g_grads, generator.trainable_variables))\n",
    "    \n",
    "    if not step % 50:\n",
    "        print(\"Step\", step)\n",
    "        print(\"Disc Loss\", d_loss)\n",
    "\n",
    "tf.keras.backend.set_learning_phase(0)"
   ]
  },
  {
   "cell_type": "code",
   "execution_count": null,
   "metadata": {},
   "outputs": [],
   "source": [
    "\"\"\"Generate samples\"\"\"\n",
    "tf.keras.backend.set_learning_phase(0)\n",
    "grid = random_sample_grid(generator, noise_fn)"
   ]
  },
  {
   "cell_type": "code",
   "execution_count": null,
   "metadata": {},
   "outputs": [],
   "source": []
  }
 ],
 "metadata": {
  "kernelspec": {
   "display_name": "Python 3",
   "language": "python",
   "name": "python3"
  },
  "language_info": {
   "codemirror_mode": {
    "name": "ipython",
    "version": 3
   },
   "file_extension": ".py",
   "mimetype": "text/x-python",
   "name": "python",
   "nbconvert_exporter": "python",
   "pygments_lexer": "ipython3",
   "version": "3.6.5"
  }
 },
 "nbformat": 4,
 "nbformat_minor": 1
}
