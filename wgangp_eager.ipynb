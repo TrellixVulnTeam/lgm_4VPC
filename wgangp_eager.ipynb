{
 "cells": [
  {
   "cell_type": "code",
   "execution_count": null,
   "metadata": {},
   "outputs": [],
   "source": [
    "\"\"\"GPU setup\"\"\"\n",
    "import os\n",
    "os.environ[\"CUDA_VISIBLE_DEVICES\"] = \"2\""
   ]
  },
  {
   "cell_type": "code",
   "execution_count": null,
   "metadata": {},
   "outputs": [],
   "source": [
    "\"\"\"Imports, define GAN\"\"\"\n",
    "import tensorflow as tf\n",
    "tf.enable_eager_execution()\n",
    "\n",
    "from utils.data import mnist_eager\n",
    "from utils.math import compute_mmd\n",
    "from utils.models import gen_conv_mnist, gen_fc_mnist, enc_conv_mnist, enc_fc_mnist\n",
    "from utils.viz import random_sample_grid\n",
    "\n",
    "\n",
    "# data\n",
    "batch_size = 128  # this is a \"half batch\"!\n",
    "train_steps = 1500\n",
    "dim_noise = 100\n",
    "penalty = 10\n",
    "n_critic = 5\n",
    "train_steps *= n_critic\n",
    "\n",
    "data = mnist_eager(\"data/mnist_train\", batch_size)\n",
    "\n",
    "conv = False\n",
    "if conv:\n",
    "    discriminator = enc_conv_mnist(1, use_bn=False)\n",
    "    generator = gen_conv_mnist(use_bn=True)\n",
    "else:\n",
    "    discriminator = enc_fc_mnist(1, use_bn=False)\n",
    "    generator = gen_fc_mnist(use_bn=True)\n",
    "\n",
    "\n",
    "def noise_fn(n_samples): return tf.random_uniform([n_samples, dim_noise], minval=-1, maxval=1)\n",
    "\n",
    "\n",
    "def partial_loss(logits, lbls):\n",
    "    return tf.losses.sigmoid_cross_entropy(multi_class_labels=lbls, logits=logits)\n",
    "\n",
    "\n",
    "gen_opt = tf.train.AdamOptimizer(learning_rate=0.0001, beta1=0., beta2=0.9)\n",
    "disc_opt = tf.train.AdamOptimizer(learning_rate=0.0001, beta1=0., beta2=0.9)"
   ]
  },
  {
   "cell_type": "code",
   "execution_count": null,
   "metadata": {},
   "outputs": [],
   "source": [
    "\"\"\"Train WGAN\"\"\"\n",
    "tf.keras.backend.set_learning_phase(1)\n",
    "for step, (img_batch, _) in enumerate(data):\n",
    "    if step > train_steps:\n",
    "        break\n",
    "\n",
    "    # prepare mixed batch for discriminator training\n",
    "    # For batchnorm to work better, we feed only real images, then only \n",
    "    # generated ones and then average the gradients\n",
    "    batch_dim = tf.shape(img_batch)[0]\n",
    "    gen_batch = generator(noise_fn(batch_dim))\n",
    "    gen_labels = tf.zeros([batch_dim, 1])\n",
    "    \n",
    "    interps = tf.random_uniform([tf.shape(img_batch)[0], 1, 1, 1], minval=0,\n",
    "                                maxval=1)\n",
    "    interp_batch = interps * img_batch + (1 - interps) * gen_batch\n",
    "    with tf.GradientTape() as d_tape:\n",
    "        d_loss_real = tf.reduce_mean(discriminator(img_batch))\n",
    "        d_loss_fake = tf.reduce_mean(discriminator(gen_batch))\n",
    "        \n",
    "        with tf.GradientTape(watch_accessed_variables=False) as p_tape:\n",
    "            p_tape.watch(interp_batch)\n",
    "            d_loss_interp = tf.reduce_mean(discriminator(interp_batch))\n",
    "        interp_grads = tf.reshape(p_tape.gradient(d_loss_interp, interp_batch),\n",
    "                                  [batch_dim, -1])\n",
    "        diff1 =  tf.squared_difference(tf.norm(interp_grads, axis=1), 1)\n",
    "        \n",
    "        d_loss = -d_loss_real + d_loss_fake + penalty * tf.reduce_mean(diff1)\n",
    "    d_grads = d_tape.gradient(d_loss, discriminator.trainable_variables)\n",
    "    disc_opt.apply_gradients(zip(d_grads, discriminator.trainable_variables))\n",
    "    \n",
    "    if not (step + 1) % n_critic:\n",
    "        # fresh generated batch for generator training\n",
    "        with tf.GradientTape(watch_accessed_variables=False) as g_tape:\n",
    "            for vari in generator.trainable_variables:\n",
    "                g_tape.watch(vari)\n",
    "            gen_only_batch = generator(noise_fn(2*batch_dim))\n",
    "            g_loss = -tf.reduce_mean(discriminator(gen_only_batch))\n",
    "        g_grads = g_tape.gradient(g_loss, generator.trainable_variables)\n",
    "        gen_opt.apply_gradients(zip(g_grads, generator.trainable_variables))\n",
    "    \n",
    "    if not step % 50:\n",
    "        print(\"Step\", step)\n",
    "        #print(\"Gen Loss\", g_loss)\n",
    "        print(\"Disc Loss\", d_loss)\n",
    "\n",
    "tf.keras.backend.set_learning_phase(0)"
   ]
  },
  {
   "cell_type": "code",
   "execution_count": null,
   "metadata": {},
   "outputs": [],
   "source": [
    "\"\"\"Generate samples\"\"\"\n",
    "grid = random_sample_grid(generator, noise_fn, grid_dims=(4, 4))"
   ]
  },
  {
   "cell_type": "code",
   "execution_count": null,
   "metadata": {},
   "outputs": [],
   "source": []
  }
 ],
 "metadata": {
  "kernelspec": {
   "display_name": "Python 3",
   "language": "python",
   "name": "python3"
  },
  "language_info": {
   "codemirror_mode": {
    "name": "ipython",
    "version": 3
   },
   "file_extension": ".py",
   "mimetype": "text/x-python",
   "name": "python",
   "nbconvert_exporter": "python",
   "pygments_lexer": "ipython3",
   "version": "3.6.5"
  }
 },
 "nbformat": 4,
 "nbformat_minor": 1
}
