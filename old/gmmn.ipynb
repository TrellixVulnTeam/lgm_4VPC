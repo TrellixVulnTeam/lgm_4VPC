{
 "cells": [
  {
   "cell_type": "code",
   "execution_count": null,
   "metadata": {},
   "outputs": [],
   "source": [
    "import os\n",
    "os.environ[\"CUDA_VISIBLE_DEVICES\"] = \"3\"\n"
   ]
  },
  {
   "cell_type": "code",
   "execution_count": null,
   "metadata": {},
   "outputs": [],
   "source": [
    "import tensorflow as tf\n",
    "from matplotlib import pyplot as plt\n",
    "\n",
    "from utils import init_mnist, make_mnist_iter, compute_mmd\n",
    "\n",
    "\n",
    "# data\n",
    "batch_size = 128\n",
    "train_steps = 500\n",
    "noise = 100\n",
    "\n",
    "\n",
    "def gen(shape_dummy):\n",
    "    \"\"\"Sampler from random noise.\"\"\"\n",
    "    with tf.variable_scope(\"generator\"):\n",
    "        noise = tf.random_uniform(shape_dummy, minval=-1, maxval=1)\n",
    "        layers = [256, 512, 1024]\n",
    "        out = noise\n",
    "        for n_h in layers:\n",
    "            out = tf.layers.dense(out, n_h, activation=tf.nn.relu)\n",
    "        out = tf.layers.dense(out, 784, activation=tf.nn.sigmoid)\n",
    "        return out\n"
   ]
  },
  {
   "cell_type": "code",
   "execution_count": null,
   "metadata": {},
   "outputs": [],
   "source": [
    "tf.reset_default_graph()\n",
    "\n",
    "iterator, img_pl, lbl_pl = make_mnist_iter(batch_size, train=True)\n",
    "next_batch = iterator.get_next()\n",
    "\n",
    "generated = gen(tf.shape(next_batch[0]))  # ugh\n",
    "\n",
    "loss = tf.sqrt(compute_mmd(next_batch[0], generated, [0.1]))\n",
    "\n",
    "opt = tf.train.AdamOptimizer()\n",
    "grads_vars = opt.compute_gradients(loss)\n",
    "take_step = opt.apply_gradients(grads_vars)\n"
   ]
  },
  {
   "cell_type": "code",
   "execution_count": null,
   "metadata": {},
   "outputs": [],
   "source": [
    "with tf.Session() as sess:\n",
    "    sess.run(tf.global_variables_initializer())\n",
    "    init_mnist(sess, iterator, img_pl, lbl_pl)\n",
    "    for step in range(train_steps):\n",
    "        _,  mmd = sess.run([take_step, loss])\n",
    "\n",
    "        if not step % 50:\n",
    "            print(\"Step\", step)\n",
    "            print(\"Loss\", mmd)\n",
    "\n",
    "    while True:\n",
    "        imgs = sess.run(generated)\n",
    "        for thing in imgs:\n",
    "            plt.imshow(thing.reshape((28, 28)), cmap=\"Greys_r\", vmin=0, vmax=1)\n",
    "            plt.show()\n",
    "            input()\n"
   ]
  },
  {
   "cell_type": "code",
   "execution_count": null,
   "metadata": {},
   "outputs": [],
   "source": []
  }
 ],
 "metadata": {
  "kernelspec": {
   "display_name": "Python 3",
   "language": "python",
   "name": "python3"
  },
  "language_info": {
   "codemirror_mode": {
    "name": "ipython",
    "version": 3
   },
   "file_extension": ".py",
   "mimetype": "text/x-python",
   "name": "python",
   "nbconvert_exporter": "python",
   "pygments_lexer": "ipython3",
   "version": "3.6.5"
  }
 },
 "nbformat": 4,
 "nbformat_minor": 1
}
