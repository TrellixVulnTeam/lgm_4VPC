{
 "cells": [
  {
   "cell_type": "code",
   "execution_count": null,
   "metadata": {},
   "outputs": [],
   "source": [
    "\"\"\"GPU setup\"\"\"\n",
    "import os\n",
    "os.environ[\"CUDA_VISIBLE_DEVICES\"] = \"3\""
   ]
  },
  {
   "cell_type": "code",
   "execution_count": null,
   "metadata": {},
   "outputs": [],
   "source": [
    "\"\"\"Imports, define/initialize model\"\"\"\n",
    "import tensorflow as tf\n",
    "tf.enable_eager_execution()\n",
    "\n",
    "from matplotlib import pyplot as plt\n",
    "\n",
    "from utils.data import mnist_eager\n",
    "from utils.math import compute_mmd\n",
    "from utils.models import gen_conv_mnist, gen_fc_mnist\n",
    "\n",
    "\n",
    "# data\n",
    "batch_size = 256\n",
    "train_steps = 1500\n",
    "noise = 100\n",
    "\n",
    "data = mnist_eager(\"data/mnist_train\", batch_size)\n",
    "\n",
    "\n",
    "def noise_fn(shape): return tf.random_uniform(shape, minval=-1, maxval=1)\n",
    "\n",
    "\n",
    "conv = False\n",
    "if conv:\n",
    "    model = gen_conv_mnist(use_bn=True)\n",
    "else:\n",
    "    model = gen_fc_mnist(use_bn=True)\n",
    "\n",
    "\n",
    "def loss(imgs):\n",
    "    generated = model(noise_fn((tf.shape(imgs)[0], noise)))\n",
    "    return tf.sqrt(compute_mmd(imgs, generated, [0.01, 0.03, 0.1, 0.3, 1.]))\n",
    "\n",
    "\n",
    "opt = tf.train.AdamOptimizer()"
   ]
  },
  {
   "cell_type": "code",
   "execution_count": null,
   "metadata": {},
   "outputs": [],
   "source": [
    "\"\"\"Train\"\"\"\n",
    "tf.keras.backend.set_learning_phase(1)\n",
    "for step, (img_batch, _) in enumerate(data):\n",
    "    if step > train_steps:\n",
    "        break\n",
    "    \n",
    "    with tf.GradientTape() as tape:\n",
    "        mmd = loss(img_batch)\n",
    "    grads = tape.gradient(mmd, model.variables)\n",
    "    opt.apply_gradients(zip(grads, model.variables))\n",
    "    \n",
    "    if not step % 50:\n",
    "        print(\"Step\", step)\n",
    "        print(\"Loss\", mmd)\n",
    "\n",
    "tf.keras.backend.set_learning_phase(0)"
   ]
  },
  {
   "cell_type": "code",
   "execution_count": null,
   "metadata": {},
   "outputs": [],
   "source": [
    "\"\"\"Generate stuff forever\"\"\"\n",
    "while True:\n",
    "    imgs = model(noise_fn((batch_size, 100)))\n",
    "    for thing in imgs:\n",
    "        plt.imshow(thing.numpy().reshape((32, 32)), cmap=\"Greys_r\", vmin=0, vmax=1)\n",
    "        plt.show()\n",
    "        input()"
   ]
  }
 ],
 "metadata": {
  "kernelspec": {
   "display_name": "Python 3",
   "language": "python",
   "name": "python3"
  },
  "language_info": {
   "codemirror_mode": {
    "name": "ipython",
    "version": 3
   },
   "file_extension": ".py",
   "mimetype": "text/x-python",
   "name": "python",
   "nbconvert_exporter": "python",
   "pygments_lexer": "ipython3",
   "version": "3.6.5"
  }
 },
 "nbformat": 4,
 "nbformat_minor": 1
}
