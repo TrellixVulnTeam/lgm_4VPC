{
 "cells": [
  {
   "cell_type": "code",
   "execution_count": null,
   "metadata": {},
   "outputs": [],
   "source": [
    "\"\"\"GPU setup\"\"\"\n",
    "import os\n",
    "os.environ[\"CUDA_VISIBLE_DEVICES\"] = \"3\""
   ]
  },
  {
   "cell_type": "code",
   "execution_count": null,
   "metadata": {},
   "outputs": [],
   "source": [
    "\"\"\"Imports, define/initialize model\"\"\"\n",
    "import tensorflow as tf\n",
    "\n",
    "from utils.data import tfr_dataset_eager, parse_img_label_tfr\n",
    "from utils.math import compute_mmd\n",
    "from utils.models import gen_conv_mnist, gen_fc_mnist\n",
    "from utils.viz import random_sample_grid, interpolate\n",
    "\n",
    "\n",
    "# data\n",
    "svhn = False\n",
    "batch_size = 256\n",
    "train_steps = 5000 if svhn else 1500\n",
    "dim_noise = 100\n",
    "\n",
    "if svhn:\n",
    "    train_files = [\"/cache/tfrs/svhn_train.tfr\", \"/cache/tfrs/svhn_extra.tfr\"]\n",
    "    test_files = [\"/cache/tfrs/svhn_test.tfr\"]\n",
    "    parse_fn = lambda x: parse_img_label_tfr(x, (32, 32, 3))\n",
    "else:\n",
    "    train_files = [\"/cache/tfrs/mnist_train.tfr\"]\n",
    "    test_files = [\"/cache/tfrs/mnist_test.tfr\"]\n",
    "    parse_fn = lambda x: parse_img_label_tfr(x, (32, 32, 1))\n",
    "\n",
    "data = tfr_dataset_eager(train_files, batch_size, parse_fn, shufrep=600000 if svhn else 60000)\n",
    "\n",
    "\n",
    "def noise_fn(n_samples): return tf.random.uniform([n_samples, dim_noise], minval=-1, maxval=1)\n",
    "\n",
    "\n",
    "conv = False\n",
    "if conv:\n",
    "    model = gen_conv_mnist(use_bn=True, channels=3 if svhn else 1)\n",
    "else:\n",
    "    model = gen_fc_mnist(use_bn=True, channels=3 if svhn else 1)\n",
    "\n",
    "\n",
    "def loss(real, generated):\n",
    "    return tf.sqrt(compute_mmd(real, generated, [0.01, 0.03, 0.1, 0.3, 1.]))\n",
    "\n",
    "\n",
    "opt = tf.optimizers.Adam()"
   ]
  },
  {
   "cell_type": "code",
   "execution_count": null,
   "metadata": {},
   "outputs": [],
   "source": [
    "\"\"\"Check target loss\"\"\"\n",
    "print(\"MMD for 15 pairs of real batches...\")\n",
    "data_iter = iter(data)\n",
    "for step in range(15):\n",
    "    mmd = loss(next(data_iter)[0], next(data_iter)[0])\n",
    "    print(mmd.numpy())"
   ]
  },
  {
   "cell_type": "code",
   "execution_count": null,
   "metadata": {},
   "outputs": [],
   "source": [
    "\"\"\"Train\"\"\"\n",
    "\n",
    "@tf.function\n",
    "def train(batch):\n",
    "    batch_dim = tf.shape(batch)[0]\n",
    "    with tf.GradientTape() as tape:\n",
    "        gen_batch = model(noise_fn(batch_dim))\n",
    "        mmd = loss(tf.reshape(batch, [batch_dim, -1]),\n",
    "                   tf.reshape(gen_batch, [batch_dim, -1]))\n",
    "    grads = tape.gradient(mmd, model.trainable_variables)\n",
    "    opt.apply_gradients(zip(grads, model.trainable_variables))\n",
    "    \n",
    "    return mmd\n",
    "\n",
    "\n",
    "tf.keras.backend.set_learning_phase(1)\n",
    "for step, (img_batch, _) in enumerate(data):\n",
    "    if step > train_steps:\n",
    "        break\n",
    "    \n",
    "    mmd = train(img_batch)\n",
    "    \n",
    "    if not step % 50:\n",
    "        print(\"Step\", step)\n",
    "        print(\"Loss\", mmd)\n",
    "\n",
    "tf.keras.backend.set_learning_phase(0)"
   ]
  },
  {
   "cell_type": "code",
   "execution_count": null,
   "metadata": {},
   "outputs": [],
   "source": [
    "\"\"\"Generate samples\"\"\"\n",
    "tf.keras.backend.set_learning_phase(0)\n",
    "\n",
    "grid = random_sample_grid(model, noise_fn)"
   ]
  },
  {
   "cell_type": "code",
   "execution_count": null,
   "metadata": {},
   "outputs": [],
   "source": [
    "\"\"\"Interpolation behavior\"\"\"\n",
    "codes = noise_fn(2)\n",
    "a_code = codes[0]\n",
    "b_code = codes[1]\n",
    "interpolate(a_code, b_code, gen=model, method=\"slerp\")"
   ]
  },
  {
   "cell_type": "code",
   "execution_count": null,
   "metadata": {},
   "outputs": [],
   "source": []
  }
 ],
 "metadata": {
  "kernelspec": {
   "display_name": "Python 3",
   "language": "python",
   "name": "python3"
  },
  "language_info": {
   "codemirror_mode": {
    "name": "ipython",
    "version": 3
   },
   "file_extension": ".py",
   "mimetype": "text/x-python",
   "name": "python",
   "nbconvert_exporter": "python",
   "pygments_lexer": "ipython3",
   "version": "3.6.5"
  }
 },
 "nbformat": 4,
 "nbformat_minor": 1
}
