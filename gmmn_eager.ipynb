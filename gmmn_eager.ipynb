{
 "cells": [
  {
   "cell_type": "code",
   "execution_count": null,
   "metadata": {},
   "outputs": [],
   "source": [
    "import os\n",
    "os.environ[\"CUDA_VISIBLE_DEVICES\"] = \"3\""
   ]
  },
  {
   "cell_type": "code",
   "execution_count": null,
   "metadata": {},
   "outputs": [],
   "source": [
    "import tensorflow as tf\n",
    "tf.enable_eager_execution()\n",
    "\n",
    "from matplotlib import pyplot as plt\n",
    "\n",
    "from utils import mnist_eager, compute_mmd\n",
    "\n",
    "\n",
    "# data\n",
    "batch_size = 128\n",
    "train_steps = 50\n",
    "noise = 100\n",
    "\n",
    "data = mnist_eager(128)\n",
    "\n",
    "model = tf.keras.Sequential([tf.keras.layers.Dense(256, tf.nn.relu),\n",
    "                             tf.keras.layers.Dense(512, tf.nn.relu),\n",
    "                             tf.keras.layers.Dense(1024, tf.nn.relu),\n",
    "                             tf.keras.layers.Dense(784, tf.nn.sigmoid)])\n",
    "\n",
    "\n",
    "def loss(imgs):\n",
    "    generated = model(tf.random_uniform((tf.shape(imgs)[0], noise), minval=-1, maxval=1))\n",
    "    return tf.sqrt(compute_mmd(imgs, generated, [0.1]))"
   ]
  },
  {
   "cell_type": "code",
   "execution_count": null,
   "metadata": {},
   "outputs": [],
   "source": [
    "opt = tf.train.AdamOptimizer()\n",
    "\n",
    "for step, (img_batch, _) in enumerate(data):\n",
    "    if step > train_steps:\n",
    "        break\n",
    "    \n",
    "    with tf.GradientTape() as tape:\n",
    "        mmd = loss(img_batch)\n",
    "    grads = tape.gradient(mmd, model.variables)\n",
    "    opt.apply_gradients(zip(grads, model.variables))\n",
    "    \n",
    "    if not step % 50:\n",
    "        print(\"Step\", step)\n",
    "        print(\"Loss\", mmd)\n",
    "\n",
    "while True:\n",
    "        imgs = model(tf.random_uniform((2, 100), minval=-1, maxval=1))\n",
    "        for thing in imgs:\n",
    "            plt.imshow(thing.numpy().reshape((28, 28)), cmap=\"Greys_r\", vmin=0, vmax=1)\n",
    "            plt.show()\n",
    "            input()"
   ]
  },
  {
   "cell_type": "code",
   "execution_count": null,
   "metadata": {},
   "outputs": [],
   "source": []
  }
 ],
 "metadata": {
  "kernelspec": {
   "display_name": "Python 3",
   "language": "python",
   "name": "python3"
  },
  "language_info": {
   "codemirror_mode": {
    "name": "ipython",
    "version": 3
   },
   "file_extension": ".py",
   "mimetype": "text/x-python",
   "name": "python",
   "nbconvert_exporter": "python",
   "pygments_lexer": "ipython3",
   "version": "3.6.5"
  }
 },
 "nbformat": 4,
 "nbformat_minor": 1
}
