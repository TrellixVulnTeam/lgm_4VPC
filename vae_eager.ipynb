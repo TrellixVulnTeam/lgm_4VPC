{
 "cells": [
  {
   "cell_type": "code",
   "execution_count": null,
   "metadata": {},
   "outputs": [],
   "source": [
    "\"\"\"GPU setup\"\"\"\n",
    "import os\n",
    "os.environ[\"CUDA_VISIBLE_DEVICES\"] = \"3\""
   ]
  },
  {
   "cell_type": "code",
   "execution_count": null,
   "metadata": {
    "collapsed": true
   },
   "outputs": [],
   "source": [
    "\"\"\"Imports, define AE model\"\"\"\n",
    "import tensorflow as tf\n",
    "import numpy as np\n",
    "tf.enable_eager_execution()\n",
    "\n",
    "from matplotlib import pyplot as plt\n",
    "\n",
    "from utils.data import mnist_eager\n",
    "from utils.math import compute_mmd\n",
    "from utils.models import gen_conv_mnist, gen_fc_mnist, enc_fc_mnist, enc_conv_mnist\n",
    "\n",
    "\n",
    "# data\n",
    "batch_size = 256\n",
    "train_steps = 1500\n",
    "dim_code = 2*16\n",
    "\n",
    "data = mnist_eager(\"data/mnist_train\", batch_size)\n",
    "\n",
    "\n",
    "conv = False\n",
    "if conv:\n",
    "    encoder = enc_conv_mnist(dim_code, use_bn=True)\n",
    "    decoder = gen_conv_mnist(use_bn=True)\n",
    "else:\n",
    "    encoder = enc_fc_mnist(dim_code, use_bn=True)\n",
    "    decoder = gen_fc_mnist(use_bn=True)\n",
    "\n",
    "\n",
    "def ae_loss(imgs, recon):\n",
    "    return tf.losses.mean_squared_error(imgs, recon)\n",
    "    #return tf.losses.absolute_difference(imgs, recon)\n",
    "    #return tf.losses.sigmoid_cross_entropy(multi_class_labels=imgs, logits=recon)\n",
    "\n",
    "\n",
    "def kl_loss(means, logvars):\n",
    "    return 0.5 * tf.reduce_sum(tf.square(means) + tf.exp(logvars) - logvars - 1)\n",
    "\n",
    "\n",
    "ae_opt = tf.train.AdamOptimizer()\n"
   ]
  },
  {
   "cell_type": "code",
   "execution_count": null,
   "metadata": {},
   "outputs": [],
   "source": [
    "\"\"\"Train AE\"\"\"\n",
    "tf.keras.backend.set_learning_phase(1)\n",
    "for step, (img_batch, _) in enumerate(data):\n",
    "    if step > train_steps:\n",
    "        break\n",
    "    \n",
    "    with tf.GradientTape() as tape:\n",
    "        code = encoder(img_batch)\n",
    "        means, logvars = tf.split(code, 2, axis=1)\n",
    "        code_samples = tf.random_normal(tf.shape(means))*tf.sqrt(tf.exp(logvars)) + means\n",
    "\n",
    "        recon = decoder(code)\n",
    "        recon_loss = ae_loss(img_batch, recon)\n",
    "        reg_loss = kl_loss(means, logvars)\n",
    "        total_loss = recon_loss + reg_loss\n",
    "    grads = tape.gradient(total_loss, encoder.variables + decoder.variables)\n",
    "    ae_opt.apply_gradients(zip(grads, encoder.variables + decoder.variables))\n",
    "    \n",
    "    if not step % 50:\n",
    "        print(\"Step\", step)\n",
    "        print(\"Loss\", total_loss)\n",
    "\n",
    "tf.keras.backend.set_learning_phase(0)"
   ]
  },
  {
   "cell_type": "code",
   "execution_count": null,
   "metadata": {},
   "outputs": [],
   "source": [
    "\"\"\"Check reconstructions\"\"\"\n",
    "test_data = mnist_eager(\"data/mnist_test\", batch_size, train=False)\n",
    "\n",
    "for img_batch, _ in test_data:\n",
    "    recon_batch = decoder(encoder(img_batch))\n",
    "    for img, rec in zip(img_batch, recon_batch):\n",
    "        compare = np.concatenate((img.numpy().reshape((32, 32)), rec.numpy().reshape((32, 32))), axis=1)\n",
    "        plt.imshow(compare, cmap=\"Greys_r\", vmin=0, vmax=1)\n",
    "        plt.show()\n",
    "        input()"
   ]
  }
 ],
 "metadata": {
  "kernelspec": {
   "display_name": "Python 2",
   "language": "python",
   "name": "python2"
  },
  "language_info": {
   "codemirror_mode": {
    "name": "ipython",
    "version": 2
   },
   "file_extension": ".py",
   "mimetype": "text/x-python",
   "name": "python",
   "nbconvert_exporter": "python",
   "pygments_lexer": "ipython2",
   "version": "2.7.6"
  }
 },
 "nbformat": 4,
 "nbformat_minor": 0
}
