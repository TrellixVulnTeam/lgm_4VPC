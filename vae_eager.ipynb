{
 "cells": [
  {
   "cell_type": "code",
   "execution_count": null,
   "metadata": {},
   "outputs": [],
   "source": [
    "\"\"\"GPU setup\"\"\"\n",
    "import os\n",
    "os.environ[\"CUDA_VISIBLE_DEVICES\"] = \"3\""
   ]
  },
  {
   "cell_type": "code",
   "execution_count": null,
   "metadata": {},
   "outputs": [],
   "source": [
    "\"\"\"Imports, define AE model\"\"\"\n",
    "import tensorflow as tf\n",
    "tf.enable_eager_execution()\n",
    "import numpy as np\n",
    "\n",
    "from utils.data import mnist_eager\n",
    "from utils.math import compute_mmd\n",
    "from utils.models import gen_conv_mnist, gen_fc_mnist, enc_fc_mnist, enc_conv_mnist\n",
    "from utils.viz import imshow, interpolate, random_sample_grid\n",
    "\n",
    "\n",
    "# data\n",
    "batch_size = 256\n",
    "train_steps = 1500\n",
    "dim_code = 2*16\n",
    "\n",
    "data = mnist_eager(\"data/mnist_train\", batch_size)\n",
    "\n",
    "\n",
    "conv = False\n",
    "if conv:\n",
    "    encoder = enc_conv_mnist(dim_code, use_bn=True)\n",
    "    decoder = gen_conv_mnist(use_bn=True, final_act=None)\n",
    "else:\n",
    "    encoder = enc_fc_mnist(dim_code, use_bn=True)\n",
    "    decoder = gen_fc_mnist(use_bn=True, final_act=None)\n",
    "\n",
    "\n",
    "def noise_fn(n_samples):\n",
    "    return tf.random_normal([n_samples, dim_code//2])\n",
    "\n",
    "\n",
    "def ae_loss(imgs, recon):\n",
    "    #return tf.losses.mean_squared_error(imgs, recon)\n",
    "    #return tf.losses.absolute_difference(imgs, recon)\n",
    "    return tf.losses.sigmoid_cross_entropy(multi_class_labels=imgs, logits=recon)\n",
    "\n",
    "\n",
    "def kl_loss(means, logvars):\n",
    "    return 0.5 * tf.reduce_sum(tf.square(means) + tf.exp(logvars) - logvars - 1)\n",
    "\n",
    "\n",
    "def mmd_loss(target_samples, generated):\n",
    "    return tf.sqrt(compute_mmd(target_samples, generated, [0.03, 0.1, 0.3, 1., 3., 10.]))\n",
    "\n",
    "\n",
    "ae_opt = tf.train.AdamOptimizer()"
   ]
  },
  {
   "cell_type": "code",
   "execution_count": null,
   "metadata": {},
   "outputs": [],
   "source": [
    "\"\"\"Train AE\"\"\"\n",
    "tf.keras.backend.set_learning_phase(1)\n",
    "for step, (img_batch, _) in enumerate(data):\n",
    "    if step > train_steps:\n",
    "        break\n",
    "    \n",
    "    with tf.GradientTape() as tape:\n",
    "        code = encoder(img_batch)\n",
    "        means, logvars = tf.split(code, 2, axis=1)\n",
    "        code_samples = noise_fn(tf.shape(means)[0]) * tf.sqrt(tf.exp(logvars)) + means\n",
    "\n",
    "        recon = decoder(code_samples)\n",
    "        recon_loss = ae_loss(img_batch, recon)\n",
    "        reg_loss = kl_loss(means, logvars)\n",
    "        total_loss = recon_loss + reg_loss\n",
    "    grads = tape.gradient(total_loss, encoder.trainable_variables + decoder.trainable_variables)\n",
    "    ae_opt.apply_gradients(zip(grads, encoder.trainable_variables + decoder.trainable_variables))\n",
    "    \n",
    "    if not step % 50:\n",
    "        print(\"Step\", step)\n",
    "        print(\"Loss\", total_loss, recon_loss, reg_loss)\n",
    "        print(\"Mean mean/var\", tf.reduce_mean(means), tf.reduce_mean(tf.exp(logvars)))\n",
    "\n",
    "tf.keras.backend.set_learning_phase(0)"
   ]
  },
  {
   "cell_type": "code",
   "execution_count": null,
   "metadata": {},
   "outputs": [],
   "source": [
    "\"\"\"Check reconstructions\"\"\"\n",
    "test_data = mnist_eager(\"data/mnist_test\", batch_size, train=False)\n",
    "\n",
    "for img_batch, _ in test_data:\n",
    "    # note this just uses the mean encodings\n",
    "    recon_batch = decoder(tf.split(encoder(img_batch), 2, axis=1)[0])\n",
    "    for img, rec in zip(img_batch, recon_batch):\n",
    "        compare = np.concatenate((img.numpy().reshape((32, 32)), rec.numpy().reshape((32, 32))), axis=1)\n",
    "        imshow(compare)\n",
    "        input()"
   ]
  },
  {
   "cell_type": "code",
   "execution_count": null,
   "metadata": {},
   "outputs": [],
   "source": [
    "\"\"\"Create training set of codes\"\"\"\n",
    "train_data_straight = mnist_eager(\"data/mnist_train\", batch_size, train=False)\n",
    "\n",
    "train_code_mean_batches = []\n",
    "train_code_var_batches = []\n",
    "for step, (img_batch, _) in enumerate(train_data_straight):\n",
    "    means, logvars = tf.split(encoder(img_batch), 2, axis=1)\n",
    "    train_code_mean_batches.append(means)\n",
    "    train_code_var_batches.append(tf.exp(logvars))\n",
    "train_code_means = np.concatenate(train_code_mean_batches)\n",
    "train_code_vars = np.concatenate(train_code_var_batches)"
   ]
  },
  {
   "cell_type": "code",
   "execution_count": null,
   "metadata": {},
   "outputs": [],
   "source": [
    "print(train_code_means.min(), train_code_means.max())\n",
    "print(train_code_vars.min(), train_code_vars.max())"
   ]
  },
  {
   "cell_type": "code",
   "execution_count": null,
   "metadata": {},
   "outputs": [],
   "source": [
    "\"\"\"Interpolate between some codes\"\"\"\n",
    "ind1 = np.random.choice(60000)\n",
    "ind2 = np.random.choice(60000)\n",
    "a_code = train_code_means[ind1]\n",
    "b_code = train_code_means[ind2]\n",
    "\n",
    "interpolate(a_code, b_code, gen=decoder, method=\"linear\")"
   ]
  },
  {
   "cell_type": "code",
   "execution_count": null,
   "metadata": {},
   "outputs": [],
   "source": [
    "\"\"\"Generate reconstructions from some random code\"\"\"\n",
    "grid = random_sample_grid(decoder, noise_fn)"
   ]
  },
  {
   "cell_type": "code",
   "execution_count": null,
   "metadata": {},
   "outputs": [],
   "source": []
  }
 ],
 "metadata": {
  "kernelspec": {
   "display_name": "Python 3",
   "language": "python",
   "name": "python3"
  },
  "language_info": {
   "codemirror_mode": {
    "name": "ipython",
    "version": 3
   },
   "file_extension": ".py",
   "mimetype": "text/x-python",
   "name": "python",
   "nbconvert_exporter": "python",
   "pygments_lexer": "ipython3",
   "version": "3.6.5"
  }
 },
 "nbformat": 4,
 "nbformat_minor": 1
}
